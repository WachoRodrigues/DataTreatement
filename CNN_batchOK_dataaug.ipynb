{
 "cells": [
  {
   "cell_type": "code",
   "execution_count": 1,
   "metadata": {},
   "outputs": [],
   "source": [
    "import numpy as np  \n",
    "import matplotlib.pyplot as plt\n",
    "import pandas as pd\n",
    "from sklearn.model_selection import train_test_split\n",
    "from sklearn.preprocessing import OneHotEncoder\n",
    "from sklearn import metrics\n",
    "from sklearn.model_selection import KFold\n",
    "import tensorflow as tf\n",
    "#Function import\n",
    "from ipynb.fs.full.autoXRD import normdata\n",
    "from ipynb.fs.full.autoXRD import normdatasingle\n",
    "from ipynb.fs.full.autoXRD import augdata\n",
    "from ipynb.fs.full.autoXRD import exp_augdata\n",
    "from ipynb.fs.full.autoXRD import exp_data_processing"
   ]
  },
  {
   "cell_type": "code",
   "execution_count": 2,
   "metadata": {},
   "outputs": [
    {
     "name": "stdout",
     "output_type": "stream",
     "text": [
      "(2402, 1468)\n",
      "(2401, 1468)\n",
      "(2401, 734)\n"
     ]
    }
   ],
   "source": [
    "#Import simulated XRD\n",
    "theor = pd.read_csv('Datasets/theor.csv', index_col=0)\n",
    "print(theor.shape)\n",
    "theor = theor.iloc[1:,]\n",
    "theor_arr = theor.values\n",
    "print(theor_arr.shape)\n",
    "\n",
    "# Normalize data for training\n",
    "ntheor = normdata(theor_arr)\n",
    "print(ntheor.shape)\n",
    "\n",
    "#exp = pd.read_csv('Datasets/exp.csv', index_col=0)\n",
    "#exp_arr = exp.values\n",
    "#print(exp_arr.shape)"
   ]
  },
  {
   "cell_type": "code",
   "execution_count": 3,
   "metadata": {},
   "outputs": [
    {
     "name": "stdout",
     "output_type": "stream",
     "text": [
      "1468\n",
      "(2401, 734)\n"
     ]
    }
   ],
   "source": [
    "#Import dimensionalities\n",
    "label_theo = pd.read_csv('Datasets/label_theo_dataaug.csv', header=None, index_col=0)\n",
    "label_theo = label_theo[1].tolist()\n",
    "\n",
    "# Load experimental class labels\n",
    "#label_exp= pd.read_csv('Datasets/label_theo.csv', index_col=0).values\n",
    "#label_exp = label_exp.reshape([len(label_exp),])\n",
    "\n",
    "space_group_enc = pd.read_csv('Datasets/encoding.csv', index_col=0)\n",
    "space_group_enc = list(space_group_enc['0'])\n",
    "\n",
    "print(len(label_theo))\n",
    "print(ntheor.shape)"
   ]
  },
  {
   "cell_type": "code",
   "execution_count": 4,
   "metadata": {},
   "outputs": [
    {
     "name": "stdout",
     "output_type": "stream",
     "text": [
      "(2401, 10000)\n",
      "(2200, 10000)\n",
      "(10000,)\n"
     ]
    }
   ],
   "source": [
    "#augdata(data,num,par1,minn,maxn)\n",
    "# Specify how many data points we augmented\n",
    "th_num = 10000\n",
    "\n",
    "# Define 2theta range for data augmentation\n",
    "exp_min = 0\n",
    "exp_max = 2200\n",
    "theor_min = 125\n",
    "theor_max = theor_min+exp_max-exp_min\n",
    "\n",
    "# Perform data augmentation\n",
    "augd, pard, crop_augd = augdata(ntheor, th_num, label_theo, theor_min, theor_max) \n",
    "\n",
    "# Enconde theoretical labels\n",
    "label_t = np.zeros([len(pard),])\n",
    "for i in range(len(pard)):\n",
    "    label_t[i] = space_group_enc.index(pard[i])\n",
    "\n",
    "print(augd.shape)\n",
    "print(crop_augd.shape)\n",
    "print(label_t.shape)"
   ]
  },
  {
   "cell_type": "code",
   "execution_count": 5,
   "metadata": {},
   "outputs": [
    {
     "name": "stdout",
     "output_type": "stream",
     "text": [
      "(10000, 2200, 1)\n",
      "(10000,)\n"
     ]
    }
   ],
   "source": [
    "#prepare X et Y\n",
    "X_th = np.transpose(crop_augd)\n",
    "#X_th = X_th.reshape(734, 2401, 1)\n",
    "X_th = X_th.reshape(th_num, exp_max-exp_min, 1)\n",
    "Y_th = label_t\n",
    "\n",
    "X_th = X_th.astype(np.float32)\n",
    "Y_th = Y_th.astype(np.float32)\n",
    "\n",
    "print(X_th.shape)\n",
    "print(Y_th.shape)"
   ]
  },
  {
   "cell_type": "code",
   "execution_count": 6,
   "metadata": {},
   "outputs": [
    {
     "name": "stdout",
     "output_type": "stream",
     "text": [
      "X_th_train (8000, 2200, 1)\n",
      "X_th_valid (2000, 2200, 1)\n",
      "Y_th_train (8000,)\n",
      "Y_th_valid (2000,)\n",
      "<TensorSliceDataset shapes: ((2200, 1), ()), types: (tf.float32, tf.float32)>\n",
      "<TensorSliceDataset shapes: ((2200, 1), ()), types: (tf.float32, tf.float32)>\n"
     ]
    }
   ],
   "source": [
    "# Introduction de set de test à partir de la base de données\n",
    "# Definition du set de test 20% d'images random\n",
    "# Avec cette ligne on definit set de images et targets pour l'entrainement et test\n",
    "X_th_train, X_th_valid, Y_th_train, Y_th_valid = train_test_split(X_th, Y_th, test_size=0.2, random_state=1)\n",
    "\n",
    "print(\"X_th_train\", X_th_train.shape)\n",
    "print(\"X_th_valid\", X_th_valid.shape)\n",
    "\n",
    "print(\"Y_th_train\", Y_th_train.shape)\n",
    "print(\"Y_th_valid\", Y_th_valid.shape)\n",
    "\n",
    "train_dataset = tf.data.Dataset.from_tensor_slices((X_th, Y_th))\n",
    "valid_dataset = tf.data.Dataset.from_tensor_slices((X_th_valid, Y_th_valid))\n",
    "\n",
    "print(train_dataset)\n",
    "print(valid_dataset)"
   ]
  },
  {
   "cell_type": "code",
   "execution_count": 7,
   "metadata": {},
   "outputs": [
    {
     "name": "stdout",
     "output_type": "stream",
     "text": [
      "(32, 2200, 1) (32,)\n"
     ]
    }
   ],
   "source": [
    "# Iter in the dataset with a number of epoch and batch size\n",
    "epoch = 1\n",
    "batch_size = 32\n",
    "for X_th_batch, Y_th_batch in train_dataset.repeat(epoch).batch(batch_size):\n",
    "    print(X_th_batch.shape, Y_th_batch.shape)\n",
    "    break"
   ]
  },
  {
   "cell_type": "code",
   "execution_count": 8,
   "metadata": {},
   "outputs": [],
   "source": [
    "class ConvModel(tf.keras.Model):\n",
    "    \n",
    "    def __init__(self):\n",
    "        super(ConvModel, self).__init__()\n",
    "        # Convolutions\n",
    "        self.conv1 = tf.keras.layers.Conv1D(32, 8, padding='same', activation='relu', name=\"conv1\")\n",
    "        self.conv2 = tf.keras.layers.Conv1D(64, 5, padding='same',activation='relu', name=\"conv2\")\n",
    "        self.conv3 = tf.keras.layers.Conv1D(128, 3, padding='same',activation='relu', name=\"conv3\")\n",
    "        # Flatten the convolution\n",
    "        self.flatten = tf.keras.layers.Flatten(name=\"flatten\")       \n",
    "        # Dense layers\n",
    "        self.d1 = tf.keras.layers.Dense(128, activation='relu', name=\"d1\")\n",
    "        self.out = tf.keras.layers.Dense(4, activation='softmax', name=\"output\")\n",
    "\n",
    "    def call(self, X_th):\n",
    "        conv1 = self.conv1(X_th)\n",
    "        #print(conv1)\n",
    "        conv2 = self.conv2(conv1)\n",
    "        #print(conv2)\n",
    "        conv3 = self.conv3(conv2)\n",
    "        #print(conv3)\n",
    "        flatten = self.flatten(conv3)\n",
    "        #print(flatten)\n",
    "        d1 = self.d1(flatten)\n",
    "        #print(d1)\n",
    "        output = self.out(d1)\n",
    "        return output\n",
    "\n",
    "model = ConvModel()\n",
    "#model.predict(X_th[:,:,:])"
   ]
  },
  {
   "cell_type": "code",
   "execution_count": 9,
   "metadata": {},
   "outputs": [],
   "source": [
    "#Define loss, optimizer, accuracy for th emodel to compile\n",
    "loss_object = tf.keras.losses.SparseCategoricalCrossentropy()\n",
    "optimizer = tf.keras.optimizers.Adam()\n",
    "\n",
    "# Loss\n",
    "train_loss = tf.keras.metrics.Mean(name='train_loss')\n",
    "valid_loss = tf.keras.metrics.Mean(name='valid_loss')\n",
    "# Accuracy\n",
    "train_accuracy = tf.keras.metrics.SparseCategoricalAccuracy(name='train_accuracy')\n",
    "valid_accuracy = tf.keras.metrics.SparseCategoricalAccuracy(name='valid_accuracy')"
   ]
  },
  {
   "cell_type": "code",
   "execution_count": 10,
   "metadata": {},
   "outputs": [],
   "source": [
    "# Definition de la fonction qui va entrainer le modele\n",
    "# On utilise un graphe @\n",
    "@tf.function\n",
    "def train_step(X_th, Y_th):\n",
    "    # Calcul du gradient\n",
    "    with tf.GradientTape() as tape:\n",
    "        # Make a prediction on all the batch\n",
    "        predictions = model(X_th)\n",
    "        # Get the error/loss on these predictions\n",
    "        loss = loss_object(Y_th, predictions)\n",
    "    # Compute the gradient which respect to the loss\n",
    "    gradients = tape.gradient(loss, model.trainable_variables)\n",
    "    # Change the weights of the model\n",
    "    optimizer.apply_gradients(zip(gradients, model.trainable_variables))\n",
    "    # The metrics are accumulate over time. You don't need to average it yourself.\n",
    "    train_loss(loss)\n",
    "    train_accuracy(Y_th, predictions)"
   ]
  },
  {
   "cell_type": "code",
   "execution_count": 11,
   "metadata": {},
   "outputs": [],
   "source": [
    "# Methode de validation en mode graphe\n",
    "@tf.function\n",
    "def valid_step(X_th, Y_th):\n",
    "    predictions = model(X_th)\n",
    "    t_loss = loss_object(Y_th, predictions)\n",
    "    # Set the metrics for the test\n",
    "    valid_loss(t_loss)\n",
    "    valid_accuracy(Y_th, predictions)"
   ]
  },
  {
   "cell_type": "code",
   "execution_count": 12,
   "metadata": {},
   "outputs": [
    {
     "name": "stdout",
     "output_type": "stream",
     "text": [
      " Batch 9984/10000, Loss: 0.7778769135475159, Accuracy: 71.100006103515625\n",
      "Epoch 1, Valid Loss: 0.6081068515777588, Valid Accuracy: 77.94999694824219\n",
      " Batch 20224/10000, Loss: 0.4822959899902344, Accuracy: 82.650001525878956\n",
      "Epoch 2, Valid Loss: 0.41984251141548157, Valid Accuracy: 83.95000457763672\n",
      " Batch 30464/10000, Loss: 0.3099782168865204, Accuracy: 88.510002136230479\n",
      "Epoch 3, Valid Loss: 0.25603267550468445, Valid Accuracy: 90.9000015258789\n",
      " Batch 40704/10000, Loss: 0.17647597193717957, Accuracy: 93.68000030517578\n",
      "Epoch 4, Valid Loss: 0.23258742690086365, Valid Accuracy: 91.44999694824219\n",
      " Batch 50944/10000, Loss: 0.14531664550304413, Accuracy: 94.63999938964844\n",
      "Epoch 5, Valid Loss: 0.07388471066951752, Valid Accuracy: 97.8499984741211\n"
     ]
    }
   ],
   "source": [
    "#Iteration du modele\n",
    "epoch = 5\n",
    "batch_size = 256\n",
    "b = 0 #Compter les batchs\n",
    "for epoch in range(epoch):\n",
    "    # Training set\n",
    "    for X_th_batch, Y_th_batch in train_dataset.batch(batch_size): #Iteration dans la dataset\n",
    "        train_step(X_th_batch, Y_th_batch) #On lance un entrainement\n",
    "        template = '\\r Batch {}/{}, Loss: {}, Accuracy: {}'\n",
    "        print(template.format(\n",
    "            b, len(Y_th), train_loss.result(), \n",
    "            train_accuracy.result()*100\n",
    "        ), end=\"\") #Informations de l'entrainement\n",
    "        b += batch_size\n",
    "    # Validation set\n",
    "    for X_th_batch, Y_th_batch in valid_dataset.batch(batch_size):\n",
    "        valid_step(X_th_batch, Y_th_batch) #Mesure precision sur chacun des batch\n",
    "\n",
    "    template = '\\nEpoch {}, Valid Loss: {}, Valid Accuracy: {}'\n",
    "    print(template.format(\n",
    "        epoch+1,\n",
    "        valid_loss.result(), \n",
    "        valid_accuracy.result()*100)\n",
    "    )\n",
    "    #A la fin de chaque epoch on vide\n",
    "    valid_loss.reset_states()\n",
    "    valid_accuracy.reset_states()\n",
    "    train_accuracy.reset_states()\n",
    "    train_loss.reset_states()"
   ]
  },
  {
   "cell_type": "code",
   "execution_count": 13,
   "metadata": {},
   "outputs": [
    {
     "name": "stdout",
     "output_type": "stream",
     "text": [
      "(10000, 4)\n",
      "[2.5737043e-07 1.1763933e-02 9.8818296e-01 5.2932519e-05] 1D\n",
      "[1.0994974e-03 6.5399897e-03 9.9221969e-01 1.4083252e-04] 1D\n",
      "[1.4223656e-01 7.7339423e-01 8.4369309e-02 6.0803353e-09] 1D\n",
      "[6.3726323e-04 9.9929559e-01 5.8867081e-05 8.1921162e-06] 1D\n",
      "[4.0594055e-03 7.1575695e-01 2.8018326e-01 3.3489789e-07] 1D\n",
      "[0.0010732  0.00121203 0.9865226  0.01119209] 0D\n",
      "[2.8437287e-07 9.9992883e-01 4.8611946e-05 2.2281571e-05] 0D\n",
      "[2.4788125e-04 9.8313880e-01 1.6613362e-02 2.7711650e-10] 2D\n",
      "[2.3814088e-07 9.9997234e-01 2.7372391e-05 8.6617782e-21] 2D\n",
      "[1.3959138e-10 3.6105741e-06 9.9999535e-01 1.0551905e-06] 2D\n"
     ]
    }
   ],
   "source": [
    "res = model.predict(X_th[:,:,:])\n",
    "print(res.shape)\n",
    "for i in range(723, 733):\n",
    "    print(res[i], label_theo[i])"
   ]
  },
  {
   "cell_type": "code",
   "execution_count": 16,
   "metadata": {},
   "outputs": [
    {
     "name": "stdout",
     "output_type": "stream",
     "text": [
      "(4305, 136)\n"
     ]
    },
    {
     "data": {
      "image/png": "[encoded data removed]",
      "text/plain": [
       "<Figure size 432x288 with 1 Axes>"
      ]
     },
     "metadata": {
      "needs_background": "light"
     },
     "output_type": "display_data"
    },
    {
     "name": "stdout",
     "output_type": "stream",
     "text": [
      "(4305, 68)\n"
     ]
    },
    {
     "data": {
      "image/png": "[encoded data removed]",
      "text/plain": [
       "<Figure size 432x288 with 1 Axes>"
      ]
     },
     "metadata": {
      "needs_background": "light"
     },
     "output_type": "display_data"
    },
    {
     "name": "stdout",
     "output_type": "stream",
     "text": [
      "(2200, 68)\n"
     ]
    }
   ],
   "source": [
    "#Load experimental data as dataframe\n",
    "exp = pd.read_csv('Datasets/exp.csv', index_col=0)\n",
    "exp_arr = exp.values\n",
    "print(exp_arr.shape)\n",
    "\n",
    "#Normalisation\n",
    "nexp = normdata(exp_arr)\n",
    "plt.plot(nexp)\n",
    "plt.show()\n",
    "print(nexp.shape)\n",
    "\n",
    "# Process data experimental\n",
    "# Define spectral range for data augmentation\n",
    "exp_min = 0\n",
    "exp_max = 2200 \n",
    "theor_min = 125\n",
    "\n",
    "#window size for experimental data extraction\n",
    "window = 10\n",
    "theor_max = theor_min+exp_max-exp_min\n",
    "\n",
    "# Preprocess experimental data\n",
    "post_exp = normdatasingle(exp_data_processing(nexp, exp_min, exp_max, window))\n",
    "plt.plot(post_exp)\n",
    "plt.show()\n",
    "\n",
    "print(post_exp.shape)\n",
    "\n",
    "# Specify how many data points we augmented\n",
    "#th_num = 734\n",
    "\n",
    "# Augment data, this may take a bit\n",
    "#augd,pard,crop_augd = augdata(ntheor, th_num, label_theo, theor_min, theor_max)\n",
    "# Input the num of experimetal data points       \n",
    "exp_num = 68\n",
    "#prepare arrays\n",
    "X_exp = np.transpose(post_exp)\n",
    "X_exp = X_exp.reshape(exp_num, exp_max-exp_min, 1)\n",
    "\n",
    "X_exp = X_exp.astype(np.float32)"
   ]
  },
  {
   "cell_type": "code",
   "execution_count": 17,
   "metadata": {},
   "outputs": [
    {
     "data": {
      "text/plain": [
       "array([[2.44026022e-09, 3.86104046e-04, 9.99611318e-01, 2.59482499e-06],\n",
       "       [9.88122650e-08, 6.70370040e-03, 9.93296206e-01, 4.00347169e-08],\n",
       "       [8.45059276e-07, 8.14599991e-01, 1.85399175e-01, 3.27215033e-10],\n",
       "       [1.74989850e-07, 2.77297795e-01, 7.22699463e-01, 2.61104492e-06],\n",
       "       [3.88345186e-04, 1.34467050e-01, 8.65144610e-01, 2.47924511e-11],\n",
       "       [5.02122493e-05, 9.99516010e-01, 4.33882029e-04, 5.64096617e-11],\n",
       "       [3.36613567e-16, 3.77976426e-12, 5.34304269e-02, 9.46569502e-01],\n",
       "       [8.43159141e-05, 8.40289474e-01, 1.08599558e-01, 5.10266200e-02],\n",
       "       [6.07614122e-17, 6.29897870e-11, 1.00000000e+00, 3.84342974e-11],\n",
       "       [1.44651890e-09, 9.62221861e-01, 3.77781726e-02, 6.32025376e-10],\n",
       "       [3.80462996e-04, 1.78497553e-01, 4.81636636e-02, 7.72958279e-01],\n",
       "       [1.13991369e-02, 1.70879116e-06, 9.88599181e-01, 1.27833888e-09],\n",
       "       [1.42457880e-14, 9.99999523e-01, 5.03334547e-07, 1.06630867e-11],\n",
       "       [1.76422266e-09, 3.38680227e-04, 9.99649167e-01, 1.21018056e-05],\n",
       "       [2.67068981e-06, 9.99992371e-01, 2.79429014e-06, 2.22787889e-06],\n",
       "       [2.59586195e-05, 1.41650811e-03, 9.98548448e-01, 9.03416276e-06],\n",
       "       [1.12891115e-01, 2.98208948e-02, 8.57287407e-01, 5.02770661e-07],\n",
       "       [1.48807646e-06, 3.89507593e-04, 8.16350400e-01, 1.83258563e-01],\n",
       "       [2.24924806e-04, 9.99715507e-01, 5.66714189e-05, 2.84303405e-06],\n",
       "       [5.65969851e-04, 1.52179728e-05, 9.99418855e-01, 1.84570812e-17],\n",
       "       [4.34987433e-03, 9.19281185e-01, 7.63546154e-02, 1.43129073e-05],\n",
       "       [1.10293359e-01, 8.61316085e-01, 2.83905063e-02, 5.87174007e-08],\n",
       "       [5.65583110e-01, 4.34407592e-01, 2.02693195e-06, 7.30433885e-06],\n",
       "       [4.99102441e-07, 9.98704433e-01, 1.29513268e-03, 2.26546863e-12],\n",
       "       [1.62668456e-08, 6.90086424e-08, 7.08178186e-06, 9.99992847e-01],\n",
       "       [1.78582860e-09, 1.32188575e-07, 2.18977448e-06, 9.99997735e-01],\n",
       "       [1.22631136e-05, 9.99987125e-01, 6.07137849e-07, 3.92590266e-11],\n",
       "       [8.33387822e-02, 2.20196433e-02, 8.89543355e-01, 5.09824511e-03],\n",
       "       [2.83408735e-04, 9.99716580e-01, 2.61921809e-08, 1.57569514e-13],\n",
       "       [6.16040733e-03, 8.29323769e-01, 1.64515764e-01, 1.05616393e-09],\n",
       "       [3.55750148e-04, 9.48046267e-01, 5.15979379e-02, 3.88270216e-08],\n",
       "       [1.13994153e-02, 3.25002917e-03, 9.85350609e-01, 1.55208849e-11],\n",
       "       [5.74862293e-04, 9.69162583e-01, 3.02624889e-02, 1.28425475e-08],\n",
       "       [7.93495681e-04, 9.99206364e-01, 6.25961718e-08, 4.99152387e-16],\n",
       "       [2.08431512e-08, 2.44788447e-04, 9.98710275e-01, 1.04492845e-03],\n",
       "       [7.48269178e-22, 2.24818426e-16, 1.00000000e+00, 1.88385951e-17],\n",
       "       [2.03324593e-08, 7.09840469e-06, 9.98270512e-01, 1.72238273e-03],\n",
       "       [1.77275092e-13, 1.00492397e-08, 9.99991179e-01, 8.79475738e-06],\n",
       "       [1.61550247e-07, 5.64986723e-04, 9.99430835e-01, 3.88339686e-06],\n",
       "       [1.58830735e-16, 5.33340767e-11, 1.00000000e+00, 2.41088643e-13],\n",
       "       [3.20798352e-21, 9.02621280e-14, 1.00000000e+00, 1.98490269e-11],\n",
       "       [1.03618728e-03, 7.55427420e-01, 2.43295714e-01, 2.40698340e-04],\n",
       "       [6.49656431e-06, 1.96447387e-01, 8.03546071e-01, 8.77999362e-09],\n",
       "       [2.20141646e-05, 9.99023080e-01, 2.62431742e-04, 6.92440954e-04],\n",
       "       [5.48587111e-21, 1.62999177e-15, 1.00000000e+00, 1.37381995e-10],\n",
       "       [1.96157605e-03, 8.50152671e-01, 1.47885710e-01, 9.28226052e-10],\n",
       "       [2.39587505e-04, 6.97335601e-01, 3.02424401e-01, 4.33674330e-07],\n",
       "       [3.04856244e-02, 9.68889773e-01, 6.24608947e-04, 8.41110059e-13],\n",
       "       [1.41542763e-01, 8.58436048e-01, 1.77432321e-05, 3.43467354e-06],\n",
       "       [4.76220796e-09, 1.66540144e-06, 6.04323566e-01, 3.95674765e-01],\n",
       "       [7.30056107e-01, 7.67233223e-02, 1.91543266e-01, 1.67734188e-03],\n",
       "       [2.88595387e-04, 9.49302673e-01, 5.04087172e-02, 3.63882435e-09],\n",
       "       [9.70122635e-01, 1.50663611e-02, 1.20770438e-02, 2.73392117e-03],\n",
       "       [1.47531718e-01, 8.42553418e-05, 8.52383614e-01, 3.71072417e-07],\n",
       "       [3.21269763e-04, 9.94275987e-01, 5.40274102e-03, 2.61396488e-10],\n",
       "       [2.37479144e-05, 9.88704264e-01, 1.12700239e-02, 1.96453152e-06],\n",
       "       [4.50590276e-04, 9.98785436e-01, 7.64044875e-04, 1.29741384e-09],\n",
       "       [1.43835088e-04, 7.81075060e-01, 2.18621612e-01, 1.59522649e-04],\n",
       "       [5.91133266e-06, 9.99994040e-01, 4.27263558e-10, 2.01804706e-09],\n",
       "       [4.72710662e-19, 3.67867425e-15, 6.41400175e-06, 9.99993563e-01],\n",
       "       [1.26744612e-06, 5.96460071e-04, 9.99351561e-01, 5.07874429e-05],\n",
       "       [3.34806557e-11, 9.12215455e-07, 9.99999046e-01, 3.56860010e-16],\n",
       "       [3.89415555e-10, 2.37168228e-12, 9.94495451e-01, 5.50458441e-03],\n",
       "       [1.78249525e-06, 9.40619335e-02, 9.05936301e-01, 5.05325469e-11],\n",
       "       [1.30369077e-02, 2.22640310e-07, 9.86962855e-01, 1.60508949e-13],\n",
       "       [1.61522441e-03, 7.13745832e-01, 2.84359694e-01, 2.79170403e-04],\n",
       "       [4.66636340e-27, 2.50966474e-18, 1.00000000e+00, 5.63961638e-12],\n",
       "       [5.68732175e-05, 5.59802771e-01, 4.40140307e-01, 4.82077986e-08]],\n",
       "      dtype=float32)"
      ]
     },
     "execution_count": 17,
     "metadata": {},
     "output_type": "execute_result"
    }
   ],
   "source": [
    "model.predict(X_exp[:,:,:])"
   ]
  },
  {
   "cell_type": "code",
   "execution_count": null,
   "metadata": {},
   "outputs": [],
   "source": []
  }
 ],
 "metadata": {
  "kernelspec": {
   "display_name": "Python 3",
   "language": "python",
   "name": "python3"
  },
  "language_info": {
   "codemirror_mode": {
    "name": "ipython",
    "version": 3
   },
   "file_extension": ".py",
   "mimetype": "text/x-python",
   "name": "python",
   "nbconvert_exporter": "python",
   "pygments_lexer": "ipython3",
   "version": "3.7.6"
  }
 },
 "nbformat": 4,
 "nbformat_minor": 4
}
