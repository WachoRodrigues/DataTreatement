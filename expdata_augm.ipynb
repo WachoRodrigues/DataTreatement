{
 "cells": [
  {
   "cell_type": "code",
   "execution_count": 1,
   "metadata": {},
   "outputs": [],
   "source": [
    "import numpy as np  \n",
    "import matplotlib.pyplot as plt\n",
    "import pandas as pd\n",
    "from sklearn.model_selection import train_test_split\n",
    "from sklearn.preprocessing import OneHotEncoder\n",
    "from sklearn import metrics\n",
    "from sklearn.model_selection import KFold\n",
    "import tensorflow as tf\n",
    "#Function import\n",
    "from ipynb.fs.full.autoXRD import normdata\n",
    "from ipynb.fs.full.autoXRD import normdatasingle\n",
    "from ipynb.fs.full.autoXRD import augdata\n",
    "from ipynb.fs.full.autoXRD import exp_augdata\n",
    "from ipynb.fs.full.autoXRD import exp_data_processing\n",
    "\n",
    "#Variou import\n",
    "import pandas as pd\n",
    "import numpy as np  \n",
    "from scipy.signal import savgol_filter\n",
    "from scipy.signal import find_peaks_cwt"
   ]
  },
  {
   "cell_type": "code",
   "execution_count": 11,
   "metadata": {},
   "outputs": [
    {
     "name": "stdout",
     "output_type": "stream",
     "text": [
      "(4249, 24)\n",
      "(2401, 12)\n"
     ]
    },
    {
     "ename": "NameError",
     "evalue": "name 'exp_max' is not defined",
     "output_type": "error",
     "traceback": [
      "\u001b[1;31m---------------------------------------------------------------------------\u001b[0m",
      "\u001b[1;31mNameError\u001b[0m                                 Traceback (most recent call last)",
      "\u001b[1;32m<ipython-input-11-0b9f68158b0b>\u001b[0m in \u001b[0;36m<module>\u001b[1;34m\u001b[0m\n\u001b[0;32m     34\u001b[0m \u001b[1;31m#window size for experimental data extraction\u001b[0m\u001b[1;33m\u001b[0m\u001b[1;33m\u001b[0m\u001b[1;33m\u001b[0m\u001b[0m\n\u001b[0;32m     35\u001b[0m \u001b[0mwindow\u001b[0m \u001b[1;33m=\u001b[0m \u001b[1;36m15\u001b[0m\u001b[1;33m\u001b[0m\u001b[1;33m\u001b[0m\u001b[0m\n\u001b[1;32m---> 36\u001b[1;33m \u001b[0mtheor_max\u001b[0m \u001b[1;33m=\u001b[0m \u001b[0mtheor_min\u001b[0m\u001b[1;33m+\u001b[0m\u001b[0mexp_max\u001b[0m\u001b[1;33m-\u001b[0m\u001b[0mexp_min\u001b[0m\u001b[1;33m\u001b[0m\u001b[1;33m\u001b[0m\u001b[0m\n\u001b[0m\u001b[0;32m     37\u001b[0m \u001b[1;33m\u001b[0m\u001b[0m\n\u001b[0;32m     38\u001b[0m \u001b[1;31m# Preprocess experimental data\u001b[0m\u001b[1;33m\u001b[0m\u001b[1;33m\u001b[0m\u001b[1;33m\u001b[0m\u001b[0m\n",
      "\u001b[1;31mNameError\u001b[0m: name 'exp_max' is not defined"
     ]
    }
   ],
   "source": [
    "#Load experimental data as dataframe\n",
    "exp = pd.read_csv('Datasets/exp2.csv', index_col=0)\n",
    "exp_arr = exp.values\n",
    "print(exp_arr.shape)\n",
    "\n",
    "nexp = normdata(exp_arr)\n",
    "\n",
    "#Manouel\n",
    "# Define spectral range for exp data preprocess\n",
    "window = 15\n",
    "minn = 0\n",
    "maxn = 2401 \n",
    "theor_min = 125\n",
    "\n",
    "(len1,w1) = np.shape(nexp)\n",
    "nexp1 = np.zeros([maxn-minn,w1])\n",
    "for i in range(w1):\n",
    "    #savgol_filter to smooth the data\n",
    "    new1 = savgol_filter(nexp[minn:maxn,i], 3, 1)\n",
    "    #peak finding\n",
    "    zf = find_peaks_cwt(new1, np.arange(.1,.15), noise_perc=0.001)\n",
    "    #background substraction\n",
    "    for j in range(len(zf)-1):\n",
    "        zf_start= np.maximum(0,zf[j+1]-window//2)\n",
    "        zf_end = np.minimum(zf[j+1]+window//2,maxn)\n",
    "        peak = new1[zf_start:zf_end]\n",
    "             \n",
    "        #abritaryly remove 1/4 data\n",
    "        npeak = np.maximum(0,peak-max(np.partition(peak,window//2 )[0:window//2]))\n",
    "        nexp1[zf_start:zf_end,i] = npeak\n",
    "\n",
    "print(nexp1.shape) \n",
    "\n",
    "#window size for experimental data extraction\n",
    "window = 15\n",
    "theor_max = theor_min+exp_max-exp_min\n",
    "\n",
    "# Preprocess experimental data\n",
    "post_exp = normdatasingle(exp_data_processing (nexp, exp_min, exp_max, window))\n",
    "print(post_exp.shape)\n",
    "\n",
    "label_exp = pd.read_csv('Datasets/label_exp2.csv', header=None, index_col=0)\n",
    "label_exp = label_exp[1].tolist()\n",
    "#print(label_exp)"
   ]
  },
  {
   "cell_type": "code",
   "execution_count": null,
   "metadata": {},
   "outputs": [],
   "source": []
  }
 ],
 "metadata": {
  "kernelspec": {
   "display_name": "Python 3",
   "language": "python",
   "name": "python3"
  },
  "language_info": {
   "codemirror_mode": {
    "name": "ipython",
    "version": 3
   },
   "file_extension": ".py",
   "mimetype": "text/x-python",
   "name": "python",
   "nbconvert_exporter": "python",
   "pygments_lexer": "ipython3",
   "version": "3.7.6"
  }
 },
 "nbformat": 4,
 "nbformat_minor": 4
}
