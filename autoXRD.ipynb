{
 "cells": [
  {
   "cell_type": "code",
   "execution_count": 1,
   "metadata": {},
   "outputs": [],
   "source": [
    "#Variou import\n",
    "import pandas as pd\n",
    "import numpy as np  \n",
    "from scipy.signal import savgol_filter\n",
    "from scipy.signal import find_peaks_cwt"
   ]
  },
  {
   "cell_type": "code",
   "execution_count": 2,
   "metadata": {},
   "outputs": [],
   "source": [
    "# Data normalization from 0 to 1 for double column dataframe, returns single column array\n",
    "def normdata(data):\n",
    "    \n",
    "    (len1,w1) = np.shape(data)\n",
    "    ndata = np.zeros([len1,w1//2])\n",
    "    for i in range(w1//2):\n",
    "        ndata[:,i]=(data[:,2*i+1]-min(data[:,2*i+1]))/(max(data[:,2*i+1])-min(data[:,2*i+1]))\n",
    "    return ndata"
   ]
  },
  {
   "cell_type": "code",
   "execution_count": 3,
   "metadata": {},
   "outputs": [],
   "source": [
    "# Data normalization from 0 to 1 for single column dataframe\n",
    "def normdatasingle(data):\n",
    "    \n",
    "    (len1,w1) = np.shape(data)\n",
    "    ndata = np.zeros([len1,w1])\n",
    "    for i in range(w1):\n",
    "        ndata[:,i]=(data[:,i]-min(data[:,i]))/(max(data[:,i])-min(data[:,i]))\n",
    "    return ndata"
   ]
  },
  {
   "cell_type": "code",
   "execution_count": 4,
   "metadata": {},
   "outputs": [],
   "source": [
    "# Data augmendatation for simulated XRD patterns\n",
    "def augdata(data,num,par1,minn,maxn):\n",
    "    \n",
    "    (len1,w1) = np.shape(data)\n",
    "    augd =np.zeros([len1,num])\n",
    "    naugd=np.zeros([len1,num])\n",
    "    newaugd=np.zeros([len1,num])\n",
    "    crop_augd = np.zeros([maxn-minn,num])\n",
    "    pard = []\n",
    "    \n",
    "    for i in range(num):\n",
    "        rnd = np.random.randint(0,w1)\n",
    "        # create the first filter for peak elimination\n",
    "        dumb = np.repeat(np.random.choice([0,1,1],300),len1//300)\n",
    "        dumb1= np.append(dumb,np.zeros([len1-len(dumb),]))\n",
    "        # create the second filter for peak scaling\n",
    "        dumbrnd = np.repeat(np.random.rand(100,),len1//100)\n",
    "        dumbrnd1  =np.append(dumbrnd,np.zeros([len1-len(dumbrnd),]))\n",
    "        #peak eleminsation and scaling\n",
    "        augd[:,i] = np.multiply((data[:,rnd]),dumbrnd1)\n",
    "        augd[:,i] = np.multiply(augd[:,i],dumb1)\n",
    "        #nomrlization\n",
    "        naugd[:,i] = (augd[:,i]-min(augd[:,i]))/(max(augd[:,i])-min(augd[:,i])+1e-9)\n",
    "        pard.append(par1[2*rnd])\n",
    "        #adding shift\n",
    "        cut = np.random.randint(-20*1,20)\n",
    "        #XRD spectrum shift to left\n",
    "        if cut>=0:\n",
    "            newaugd[:,i] = np.append(naugd[cut:,i],np.zeros([cut,]))\n",
    "        #XRD spectrum shift to right\n",
    "        else:\n",
    "            newaugd[:,i] = np.append(naugd[0:len1+cut,i],np.zeros([cut*-1,]))\n",
    "         \n",
    "        crop_augd[:,i] = newaugd[minn:maxn,i]\n",
    "#        \n",
    "    return newaugd, pard, crop_augd"
   ]
  },
  {
   "cell_type": "code",
   "execution_count": 5,
   "metadata": {},
   "outputs": [],
   "source": [
    "# Data augmendatation for experimental XRD pattern\n",
    "def exp_augdata(data,num,label):\n",
    "    \n",
    "    (len1,w1) = np.shape(data)\n",
    "    augd =np.zeros([len1,num])\n",
    "    naugd=np.zeros([len1,num])\n",
    "    newaugd=np.zeros([len1,num])\n",
    "    par=np.zeros([num,])\n",
    "    \n",
    "    for i in range(num):\n",
    "        rnd = np.random.randint(0,w1)\n",
    "\n",
    "        # create the first filter for peak elimination\n",
    "        dumb= np.repeat(np.random.choice([0,1,1],300),len1//300)\n",
    "        dumb1= np.append(dumb,np.zeros([len1-len(dumb),]))\n",
    "        # create the second filter for peak scaling\n",
    "        dumbrnd= np.repeat(np.random.rand(200,),len1//200)\n",
    "        dumbrnd1=np.append(dumbrnd,np.zeros([len1-len(dumbrnd),]))\n",
    "        #peak eleminsation and scaling\n",
    "        augd[:,i] = np.multiply((data[:,rnd]),dumbrnd1)\n",
    "        augd[:,i] = np.multiply(augd[:,i],dumb1)\n",
    "        #normalization\n",
    "        naugd[:,i] = (augd[:,i]-min(augd[:,i]))/(max(augd[:,i])-min(augd[:,i])+1e-9)\n",
    "        par[i,] =label[rnd,] \n",
    "        #adding shift\n",
    "        cut = np.random.randint(-20*1,20)\n",
    "        #XRD spectrum shift to left\n",
    "        if cut>=0:\n",
    "            newaugd[:,i] = np.append(naugd[cut:,i],np.zeros([cut,]))\n",
    "        #XRD spectrum shift to right\n",
    "        else:\n",
    "            newaugd[:,i] = np.append(naugd[0:len1+cut,i],np.zeros([cut*-1,]))\n",
    "\n",
    "    return newaugd, par"
   ]
  },
  {
   "cell_type": "code",
   "execution_count": 1,
   "metadata": {},
   "outputs": [],
   "source": [
    "# Extracting experimental data\n",
    "def exp_data_processing (data,minn,maxn,window):\n",
    "    \n",
    "    (len1,w1) = np.shape(data)\n",
    "    nexp1 = np.zeros([maxn-minn,w1])\n",
    "    for i in range(w1):\n",
    "        #savgol_filter to smooth the data\n",
    "         new1 = savgol_filter(data[minn:maxn,i], 3, 1)\n",
    "         #peak finding\n",
    "         zf = find_peaks_cwt(new1, np.arange(0.1,0.15), noise_perc=0.01)\n",
    "         #background substraction\n",
    "         for j in range(len(zf)-1):\n",
    "             zf_start= np.maximum(0,zf[j+1]-window//2)\n",
    "             zf_end = np.minimum(zf[j+1]+window//2,maxn)\n",
    "             peak = new1[zf_start:zf_end]\n",
    "             \n",
    "             ##abritaryly remove 1/4 data\n",
    "             npeak = np.maximum(0,peak-max(np.partition(peak,window//5 )[0:window//5]))\n",
    "             nexp1[zf_start:zf_end,i] = npeak     \n",
    "    return nexp1"
   ]
  },
  {
   "cell_type": "code",
   "execution_count": null,
   "metadata": {},
   "outputs": [],
   "source": []
  }
 ],
 "metadata": {
  "kernelspec": {
   "display_name": "Python 3",
   "language": "python",
   "name": "python3"
  },
  "language_info": {
   "codemirror_mode": {
    "name": "ipython",
    "version": 3
   },
   "file_extension": ".py",
   "mimetype": "text/x-python",
   "name": "python",
   "nbconvert_exporter": "python",
   "pygments_lexer": "ipython3",
   "version": "3.7.6"
  }
 },
 "nbformat": 4,
 "nbformat_minor": 4
}
