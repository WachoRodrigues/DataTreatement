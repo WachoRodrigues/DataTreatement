{
 "cells": [
  {
   "cell_type": "code",
   "execution_count": 12,
   "metadata": {},
   "outputs": [],
   "source": [
    "import numpy as np  \n",
    "import matplotlib.pyplot as plt\n",
    "import pandas as pd\n",
    "from sklearn.model_selection import train_test_split\n",
    "from sklearn.preprocessing import OneHotEncoder\n",
    "from sklearn import metrics\n",
    "from sklearn.model_selection import KFold\n",
    "import tensorflow as tf\n",
    "#Function import\n",
    "from ipynb.fs.full.autoXRD import normdata\n",
    "from ipynb.fs.full.autoXRD import normdatasingle\n",
    "from ipynb.fs.full.autoXRD import augdata\n",
    "from ipynb.fs.full.autoXRD import exp_augdata\n",
    "from ipynb.fs.full.autoXRD import exp_data_processing"
   ]
  },
  {
   "cell_type": "code",
   "execution_count": 35,
   "metadata": {},
   "outputs": [
    {
     "name": "stdout",
     "output_type": "stream",
     "text": [
      "(2402, 960)\n",
      "(2401, 960)\n",
      "(2401, 480)\n"
     ]
    }
   ],
   "source": [
    "#Import simulated XRD\n",
    "theor = pd.read_csv('Datasets/theor_PbI.csv', index_col=0)\n",
    "print(theor.shape)\n",
    "theor = theor.iloc[1:,]\n",
    "theor_arr = theor.values\n",
    "print(theor_arr.shape)\n",
    "\n",
    "# Normalize data for training\n",
    "ntheor = normdata(theor_arr)\n",
    "print(ntheor.shape)\n",
    "\n",
    "#exp = pd.read_csv('Datasets/exp.csv', index_col=0)\n",
    "#exp_arr = exp.values\n",
    "#print(exp_arr.shape)"
   ]
  },
  {
   "cell_type": "code",
   "execution_count": 36,
   "metadata": {},
   "outputs": [
    {
     "name": "stdout",
     "output_type": "stream",
     "text": [
      "960\n",
      "(2401, 480)\n"
     ]
    }
   ],
   "source": [
    "#Import dimensionalities\n",
    "label_theo = pd.read_csv('Datasets/label_theo_dataaug_PbI.csv', header=None, index_col=0)\n",
    "label_theo = label_theo[1].tolist()\n",
    "\n",
    "# Load experimental class labels\n",
    "#label_exp= pd.read_csv('Datasets/label_theo.csv', index_col=0).values\n",
    "#label_exp = label_exp.reshape([len(label_exp),])\n",
    "\n",
    "space_group_enc = pd.read_csv('Datasets/encoding.csv', index_col=0)\n",
    "space_group_enc = list(space_group_enc['0'])\n",
    "\n",
    "print(len(label_theo))\n",
    "print(ntheor.shape)"
   ]
  },
  {
   "cell_type": "code",
   "execution_count": 38,
   "metadata": {},
   "outputs": [
    {
     "name": "stdout",
     "output_type": "stream",
     "text": [
      "(2401, 10000)\n",
      "(2200, 10000)\n",
      "(10000,)\n"
     ]
    }
   ],
   "source": [
    "#augdata(data,num,par1,minn,maxn)\n",
    "# Specify how many data points we augmented\n",
    "th_num = 10000\n",
    "\n",
    "# Define 2theta range for data augmentation\n",
    "exp_min = 0\n",
    "exp_max = 2200\n",
    "theor_min = 125\n",
    "theor_max = theor_min+exp_max-exp_min\n",
    "\n",
    "# Perform data augmentation\n",
    "augd, pard, crop_augd = augdata(ntheor, th_num, label_theo, theor_min, theor_max) \n",
    "\n",
    "# Enconde theoretical labels\n",
    "label_t = np.zeros([len(pard),])\n",
    "for i in range(len(pard)):\n",
    "    label_t[i] = space_group_enc.index(pard[i])\n",
    "\n",
    "print(augd.shape)\n",
    "print(crop_augd.shape)\n",
    "print(label_t.shape)"
   ]
  },
  {
   "cell_type": "code",
   "execution_count": 39,
   "metadata": {},
   "outputs": [
    {
     "name": "stdout",
     "output_type": "stream",
     "text": [
      "(10000, 2200, 1)\n",
      "(10000,)\n"
     ]
    }
   ],
   "source": [
    "#prepare X et Y\n",
    "X_th = np.transpose(crop_augd)\n",
    "#X_th = X_th.reshape(734, 2401, 1)\n",
    "X_th = X_th.reshape(th_num, exp_max-exp_min, 1)\n",
    "Y_th = label_t\n",
    "\n",
    "X_th = X_th.astype(np.float32)\n",
    "Y_th = Y_th.astype(np.float32)\n",
    "\n",
    "print(X_th.shape)\n",
    "print(Y_th.shape)"
   ]
  },
  {
   "cell_type": "code",
   "execution_count": 40,
   "metadata": {},
   "outputs": [
    {
     "name": "stdout",
     "output_type": "stream",
     "text": [
      "X_th_train (8000, 2200, 1)\n",
      "X_th_valid (2000, 2200, 1)\n",
      "Y_th_train (8000,)\n",
      "Y_th_valid (2000,)\n",
      "<TensorSliceDataset shapes: ((2200, 1), ()), types: (tf.float32, tf.float32)>\n",
      "<TensorSliceDataset shapes: ((2200, 1), ()), types: (tf.float32, tf.float32)>\n"
     ]
    }
   ],
   "source": [
    "# Introduction de set de test à partir de la base de données\n",
    "# Definition du set de test 20% d'images random\n",
    "# Avec cette ligne on definit set de images et targets pour l'entrainement et test\n",
    "X_th_train, X_th_valid, Y_th_train, Y_th_valid = train_test_split(X_th, Y_th, test_size=0.2, random_state=1)\n",
    "\n",
    "print(\"X_th_train\", X_th_train.shape)\n",
    "print(\"X_th_valid\", X_th_valid.shape)\n",
    "\n",
    "print(\"Y_th_train\", Y_th_train.shape)\n",
    "print(\"Y_th_valid\", Y_th_valid.shape)\n",
    "\n",
    "train_dataset = tf.data.Dataset.from_tensor_slices((X_th, Y_th))\n",
    "valid_dataset = tf.data.Dataset.from_tensor_slices((X_th_valid, Y_th_valid))\n",
    "\n",
    "print(train_dataset)\n",
    "print(valid_dataset)"
   ]
  },
  {
   "cell_type": "code",
   "execution_count": 41,
   "metadata": {},
   "outputs": [
    {
     "name": "stdout",
     "output_type": "stream",
     "text": [
      "(32, 2200, 1) (32,)\n"
     ]
    }
   ],
   "source": [
    "# Iter in the dataset with a number of epoch and batch size\n",
    "epoch = 1\n",
    "batch_size = 32\n",
    "for X_th_batch, Y_th_batch in train_dataset.repeat(epoch).batch(batch_size):\n",
    "    print(X_th_batch.shape, Y_th_batch.shape)\n",
    "    break"
   ]
  },
  {
   "cell_type": "code",
   "execution_count": 42,
   "metadata": {},
   "outputs": [],
   "source": [
    "class ConvModel(tf.keras.Model):\n",
    "    \n",
    "    def __init__(self):\n",
    "        super(ConvModel, self).__init__()\n",
    "        # Convolutions\n",
    "        self.conv1 = tf.keras.layers.Conv1D(32, 8, padding='same', activation='relu', name=\"conv1\")\n",
    "        self.conv2 = tf.keras.layers.Conv1D(64, 5, padding='same',activation='relu', name=\"conv2\")\n",
    "        self.conv3 = tf.keras.layers.Conv1D(128, 3, padding='same',activation='relu', name=\"conv3\")\n",
    "        # Flatten the convolution\n",
    "        self.flatten = tf.keras.layers.Flatten(name=\"flatten\")       \n",
    "        # Dense layers\n",
    "        self.d1 = tf.keras.layers.Dense(128, activation='relu', name=\"d1\")\n",
    "        self.out = tf.keras.layers.Dense(4, activation='softmax', name=\"output\")\n",
    "\n",
    "    def call(self, X_th):\n",
    "        conv1 = self.conv1(X_th)\n",
    "        #print(conv1)\n",
    "        conv2 = self.conv2(conv1)\n",
    "        #print(conv2)\n",
    "        conv3 = self.conv3(conv2)\n",
    "        #print(conv3)\n",
    "        flatten = self.flatten(conv3)\n",
    "        #print(flatten)\n",
    "        d1 = self.d1(flatten)\n",
    "        #print(d1)\n",
    "        output = self.out(d1)\n",
    "        return output\n",
    "\n",
    "model = ConvModel()\n",
    "#model.predict(X_th[:,:,:])"
   ]
  },
  {
   "cell_type": "code",
   "execution_count": 43,
   "metadata": {},
   "outputs": [],
   "source": [
    "#Define loss, optimizer, accuracy for th emodel to compile\n",
    "loss_object = tf.keras.losses.SparseCategoricalCrossentropy()\n",
    "optimizer = tf.keras.optimizers.Adam()\n",
    "\n",
    "# Loss\n",
    "train_loss = tf.keras.metrics.Mean(name='train_loss')\n",
    "valid_loss = tf.keras.metrics.Mean(name='valid_loss')\n",
    "# Accuracy\n",
    "train_accuracy = tf.keras.metrics.SparseCategoricalAccuracy(name='train_accuracy')\n",
    "valid_accuracy = tf.keras.metrics.SparseCategoricalAccuracy(name='valid_accuracy')"
   ]
  },
  {
   "cell_type": "code",
   "execution_count": 44,
   "metadata": {},
   "outputs": [],
   "source": [
    "# Definition de la fonction qui va entrainer le modele\n",
    "# On utilise un graphe @\n",
    "@tf.function\n",
    "def train_step(X_th, Y_th):\n",
    "    # Calcul du gradient\n",
    "    with tf.GradientTape() as tape:\n",
    "        # Make a prediction on all the batch\n",
    "        predictions = model(X_th)\n",
    "        # Get the error/loss on these predictions\n",
    "        loss = loss_object(Y_th, predictions)\n",
    "    # Compute the gradient which respect to the loss\n",
    "    gradients = tape.gradient(loss, model.trainable_variables)\n",
    "    # Change the weights of the model\n",
    "    optimizer.apply_gradients(zip(gradients, model.trainable_variables))\n",
    "    # The metrics are accumulate over time. You don't need to average it yourself.\n",
    "    train_loss(loss)\n",
    "    train_accuracy(Y_th, predictions)"
   ]
  },
  {
   "cell_type": "code",
   "execution_count": 45,
   "metadata": {},
   "outputs": [],
   "source": [
    "# Methode de validation en mode graphe\n",
    "@tf.function\n",
    "def valid_step(X_th, Y_th):\n",
    "    predictions = model(X_th)\n",
    "    t_loss = loss_object(Y_th, predictions)\n",
    "    # Set the metrics for the test\n",
    "    valid_loss(t_loss)\n",
    "    valid_accuracy(Y_th, predictions)"
   ]
  },
  {
   "cell_type": "code",
   "execution_count": 46,
   "metadata": {},
   "outputs": [
    {
     "name": "stdout",
     "output_type": "stream",
     "text": [
      " Batch 9984/10000, Loss: 0.6106392741203308, Accuracy: 77.450004577636726\n",
      "Epoch 1, Valid Loss: 0.3300728499889374, Valid Accuracy: 88.4000015258789\n",
      " Batch 20096/10000, Loss: 0.27416667342185974, Accuracy: 89.47000122070312\n",
      "Epoch 2, Valid Loss: 0.1734178066253662, Valid Accuracy: 93.80000305175781\n",
      " Batch 30208/10000, Loss: 0.1343165785074234, Accuracy: 94.959999084472662\n",
      "Epoch 3, Valid Loss: 0.12493829429149628, Valid Accuracy: 95.45000457763672\n",
      " Batch 40320/10000, Loss: 0.08296234160661697, Accuracy: 96.95999908447266\n",
      "Epoch 4, Valid Loss: 0.08327905088663101, Valid Accuracy: 96.8499984741211\n",
      " Batch 50432/10000, Loss: 0.05496777221560478, Accuracy: 98.119995117187598\n",
      "Epoch 5, Valid Loss: 0.049191586673259735, Valid Accuracy: 98.44999694824219\n"
     ]
    }
   ],
   "source": [
    "#Iteration du modele\n",
    "epoch = 5\n",
    "batch_size = 128\n",
    "b = 0 #Compter les batchs\n",
    "for epoch in range(epoch):\n",
    "    # Training set\n",
    "    for X_th_batch, Y_th_batch in train_dataset.batch(batch_size): #Iteration dans la dataset\n",
    "        train_step(X_th_batch, Y_th_batch) #On lance un entrainement\n",
    "        template = '\\r Batch {}/{}, Loss: {}, Accuracy: {}'\n",
    "        print(template.format(\n",
    "            b, len(Y_th), train_loss.result(), \n",
    "            train_accuracy.result()*100\n",
    "        ), end=\"\") #Informations de l'entrainement\n",
    "        b += batch_size\n",
    "    # Validation set\n",
    "    for X_th_batch, Y_th_batch in valid_dataset.batch(batch_size):\n",
    "        valid_step(X_th_batch, Y_th_batch) #Mesure precision sur chacun des batch\n",
    "\n",
    "    template = '\\nEpoch {}, Valid Loss: {}, Valid Accuracy: {}'\n",
    "    print(template.format(\n",
    "        epoch+1,\n",
    "        valid_loss.result(), \n",
    "        valid_accuracy.result()*100)\n",
    "    )\n",
    "    #A la fin de chaque epoch on vide\n",
    "    valid_loss.reset_states()\n",
    "    valid_accuracy.reset_states()\n",
    "    train_accuracy.reset_states()\n",
    "    train_loss.reset_states()"
   ]
  },
  {
   "cell_type": "code",
   "execution_count": 48,
   "metadata": {},
   "outputs": [
    {
     "name": "stdout",
     "output_type": "stream",
     "text": [
      "(10000, 4)\n",
      "[2.8291349e-03 9.9498838e-01 1.5077068e-03 6.7483663e-04] 1D\n",
      "[1.5776588e-05 9.9985552e-01 1.2667220e-04 1.9860902e-06] 1D\n",
      "[1.4365537e-05 9.8280615e-01 1.7179515e-02 5.0034005e-10] 1D\n",
      "[2.9815151e-06 9.9996257e-01 3.4427976e-05 1.3372599e-09] 1D\n",
      "[5.1509927e-04 9.6745856e-02 9.0273905e-01 3.5421532e-10] 1D\n",
      "[5.891365e-06 9.999331e-01 6.057270e-05 4.285571e-07] 0D\n",
      "[3.8538392e-06 7.8400934e-01 2.1553525e-01 4.5160760e-04] 0D\n",
      "[2.3768998e-04 9.9443477e-01 5.3259917e-03 1.5591792e-06] 2D\n",
      "[2.9071282e-24 7.1498975e-25 1.5915833e-04 9.9984086e-01] 2D\n",
      "[4.3396042e-09 9.9999905e-01 1.0115328e-06 9.1134232e-11] 2D\n"
     ]
    }
   ],
   "source": [
    "res = model.predict(X_th[:,:,:])\n",
    "print(res.shape)\n",
    "for i in range(723, 733):\n",
    "    print(res[i], label_theo[i])"
   ]
  },
  {
   "cell_type": "code",
   "execution_count": 51,
   "metadata": {},
   "outputs": [
    {
     "name": "stdout",
     "output_type": "stream",
     "text": [
      "(4314, 20)\n"
     ]
    },
    {
     "data": {
      "image/png": "[encoded data removed]",
      "text/plain": [
       "<Figure size 432x288 with 1 Axes>"
      ]
     },
     "metadata": {
      "needs_background": "light"
     },
     "output_type": "display_data"
    },
    {
     "name": "stdout",
     "output_type": "stream",
     "text": [
      "(4314, 10)\n"
     ]
    },
    {
     "data": {
      "image/png": "[encoded data removed]",
      "text/plain": [
       "<Figure size 432x288 with 1 Axes>"
      ]
     },
     "metadata": {
      "needs_background": "light"
     },
     "output_type": "display_data"
    },
    {
     "name": "stdout",
     "output_type": "stream",
     "text": [
      "(2200, 10)\n"
     ]
    }
   ],
   "source": [
    "#Load experimental data as dataframe\n",
    "exp = pd.read_csv('Datasets/exp_PbI.csv', index_col=0)\n",
    "exp_arr = exp.values\n",
    "print(exp_arr.shape)\n",
    "\n",
    "#Normalisation\n",
    "nexp = normdata(exp_arr)\n",
    "plt.plot(nexp)\n",
    "plt.show()\n",
    "print(nexp.shape)\n",
    "\n",
    "# Process data experimental\n",
    "# Define spectral range for data augmentation\n",
    "exp_min = 0\n",
    "exp_max = 2200 \n",
    "theor_min = 125\n",
    "\n",
    "#window size for experimental data extraction\n",
    "window = 5\n",
    "theor_max = theor_min+exp_max-exp_min\n",
    "\n",
    "# Preprocess experimental data\n",
    "post_exp = normdatasingle(exp_data_processing(nexp, exp_min, exp_max, window))\n",
    "plt.plot(post_exp)\n",
    "plt.show()\n",
    "\n",
    "print(post_exp.shape)\n",
    "\n",
    "# Specify how many data points we augmented\n",
    "#th_num = 734\n",
    "\n",
    "# Augment data, this may take a bit\n",
    "#augd,pard,crop_augd = augdata(ntheor, th_num, label_theo, theor_min, theor_max)\n",
    "# Input the num of experimetal data points       \n",
    "exp_num = 10\n",
    "#prepare arrays\n",
    "X_exp = np.transpose(post_exp)\n",
    "X_exp = X_exp.reshape(exp_num, exp_max-exp_min, 1)\n",
    "\n",
    "X_exp = X_exp.astype(np.float32)"
   ]
  },
  {
   "cell_type": "code",
   "execution_count": 52,
   "metadata": {},
   "outputs": [
    {
     "data": {
      "text/plain": [
       "array([[5.5579724e-16, 9.9999344e-01, 6.5111617e-06, 2.3979378e-13],\n",
       "       [2.7914668e-02, 9.7208506e-01, 9.3258841e-09, 1.7439660e-07],\n",
       "       [9.6807736e-01, 4.3519959e-03, 2.7570698e-02, 2.6936538e-08],\n",
       "       [3.6000534e-09, 7.1642004e-05, 9.9992836e-01, 8.5574631e-11],\n",
       "       [2.2354025e-06, 9.9966443e-01, 3.1461217e-04, 1.8747898e-05],\n",
       "       [4.6383514e-04, 9.9951959e-01, 1.6337041e-05, 2.2557440e-07],\n",
       "       [2.2979248e-04, 9.9932611e-01, 4.4193660e-04, 2.0879509e-06],\n",
       "       [5.2132389e-05, 9.8826081e-01, 1.1684086e-02, 2.9857461e-06],\n",
       "       [4.2409759e-08, 1.0000000e+00, 8.1787688e-11, 4.0352226e-15],\n",
       "       [4.7130953e-07, 5.9826511e-01, 4.0173319e-01, 1.2010017e-06]],\n",
       "      dtype=float32)"
      ]
     },
     "execution_count": 52,
     "metadata": {},
     "output_type": "execute_result"
    }
   ],
   "source": [
    "model.predict(X_exp[:,:,:])"
   ]
  },
  {
   "cell_type": "code",
   "execution_count": null,
   "metadata": {},
   "outputs": [],
   "source": []
  }
 ],
 "metadata": {
  "kernelspec": {
   "display_name": "Python 3",
   "language": "python",
   "name": "python3"
  },
  "language_info": {
   "codemirror_mode": {
    "name": "ipython",
    "version": 3
   },
   "file_extension": ".py",
   "mimetype": "text/x-python",
   "name": "python",
   "nbconvert_exporter": "python",
   "pygments_lexer": "ipython3",
   "version": "3.7.6"
  }
 },
 "nbformat": 4,
 "nbformat_minor": 4
}
